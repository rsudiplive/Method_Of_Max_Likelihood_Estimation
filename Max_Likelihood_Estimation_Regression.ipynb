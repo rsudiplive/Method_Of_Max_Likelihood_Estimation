{
  "nbformat": 4,
  "nbformat_minor": 0,
  "metadata": {
    "colab": {
      "name": "Max_Likelihood_Estimation_Regression.ipynb",
      "provenance": [],
      "mount_file_id": "13IXlSFjP3F8tCn4J57t00AEx5Zj-f5Dj",
      "authorship_tag": "ABX9TyM4o2JdIc3d5WoEGdZ3NjAF",
      "include_colab_link": true
    },
    "kernelspec": {
      "name": "python3",
      "display_name": "Python 3"
    },
    "language_info": {
      "name": "python"
    }
  },
  "cells": [
    {
      "cell_type": "markdown",
      "metadata": {
        "id": "view-in-github",
        "colab_type": "text"
      },
      "source": [
        "<a href=\"https://colab.research.google.com/github/rsudiplive/Method_Of_Max_Likelihood_Logistic_Regression/blob/main/Max_Likelihood_Estimation_Regression.ipynb\" target=\"_parent\"><img src=\"https://colab.research.google.com/assets/colab-badge.svg\" alt=\"Open In Colab\"/></a>"
      ]
    },
    {
      "cell_type": "markdown",
      "metadata": {
        "id": "Wk68b5m6H8it"
      },
      "source": [
        "# What do we mean by Maximum Likelihood estimation? "
      ]
    },
    {
      "cell_type": "markdown",
      "metadata": {
        "id": "0bv8357ZIDUQ"
      },
      "source": [
        "The **maximum likelihood estimation** is a method that determines values for parameters of the model. It is the statistical method of estimating the parameters of the probability distribution by maximizing the likelihood function. The point in which the parameter value that maximizes the likelihood function is called the maximum likelihood estimate. <br>\n",
        "\n",
        "**Goal:** <br>\n",
        "Maximum Likelihood Estimation involves treating the problem as an optimization or search problem, where we seek a set of parameters that results in the best fit for the joint probability of the data sample (X). <br>\n",
        "\n",
        "**Five Major Steps in MLE:**\n",
        "\n",
        "1. Perform a certain experiment to collect the data.\n",
        "2. Choose a parametric model of the data, with certain modifiable parameters.\n",
        "3. Formulate the likelihood as an objective function to be maximized.\n",
        "4. Maximize the objective function and derive the parameters of the model. \n",
        "\n"
      ]
    },
    {
      "cell_type": "markdown",
      "metadata": {
        "id": "F5YXhRVHp76Y"
      },
      "source": [
        "**Deriving MLE from scratch:**"
      ]
    },
    {
      "cell_type": "code",
      "metadata": {
        "id": "4ybpH9WtHeQT"
      },
      "source": [
        "#importing the libraries\n",
        "import math\n",
        "import random\n",
        "\n",
        "import numpy as np\n",
        "from numpy import log, exp\n",
        "import pandas as pd"
      ],
      "execution_count": 17,
      "outputs": []
    },
    {
      "cell_type": "code",
      "metadata": {
        "id": "mrPFHSgdKX74"
      },
      "source": [
        "class Point:\n",
        "    def __init__(self, x, y):\n",
        "        self.x = x\n",
        "        self.y = y\n",
        "\n",
        "    def __str__(self): #The __str__ method in Python represents the class objects as a string. This method returns the str obj!\n",
        "        return \"{0},{1}\".format(self.x, self.y)"
      ],
      "execution_count": 2,
      "outputs": []
    },
    {
      "cell_type": "code",
      "metadata": {
        "colab": {
          "base_uri": "https://localhost:8080/"
        },
        "id": "hfH8zVNbOQjE",
        "outputId": "7b3144de-fcb2-4637-bc62-b4463ded4118"
      },
      "source": [
        "points = [(Point(row.x, row.y)) for index, row in pd.read_csv(\"/content/drive/MyDrive/Colab Notebooks/dat/simple_logistic_regression.csv\").iterrows()]\n",
        "\n",
        "best_likelihood = -10_000_000\n",
        "b0 = .01\n",
        "b1 = .01\n",
        "\n",
        "\n",
        "# calculating maximum likelihood\n",
        "\n",
        "def predict_probability(x):\n",
        "    p = 1.0 / (1.0001 + math.exp(-(b0 + b1 * x)))\n",
        "    return p\n",
        "\n",
        "\n",
        "for i in range(1_000_000):\n",
        "\n",
        "    # Select b0 or b1 randomly, and adjust it randomly\n",
        "    random_b = random.choice(range(2))\n",
        "\n",
        "    random_adjust = np.random.normal()\n",
        "\n",
        "    if random_b == 0:\n",
        "        b0 += random_adjust\n",
        "    elif random_b == 1:\n",
        "        b1 += random_adjust\n",
        "\n",
        "    # Calculate total likelihood\n",
        "    true_estimates = sum(math.log(predict_probability(p.x)) for p in points if p.y == 1.0)\n",
        "    false_estimates = sum(math.log(1.0 - predict_probability(p.x)) for p in points if p.y == 0.0)\n",
        "\n",
        "    total_likelihood = true_estimates + false_estimates\n",
        "\n",
        "    # If likelihood improves, keep the random adjustment. Otherwise revert.\n",
        "    if best_likelihood < total_likelihood:\n",
        "        best_likelihood = total_likelihood\n",
        "    elif random_b == 0:\n",
        "        b0 -= random_adjust\n",
        "    elif random_b == 1:\n",
        "        b1 -= random_adjust\n",
        "\n",
        "print(\"1.0 / (1 + exp(-({0} + {1}*x))\".format(b0, b1))\n",
        "print(\"BEST LIKELIHOOD: {0}\".format(math.exp(best_likelihood)))"
      ],
      "execution_count": 9,
      "outputs": [
        {
          "output_type": "stream",
          "text": [
            "1.0 / (1 + exp(-(-3.175516491269391 + 0.6926650530853975*x))\n",
            "BEST LIKELIHOOD: 4.790311041879937e-05\n"
          ],
          "name": "stdout"
        }
      ]
    },
    {
      "cell_type": "markdown",
      "metadata": {
        "id": "L9rAGUGJJ-zS"
      },
      "source": [
        "Now, let's move forward with the python implementation of finding the maximum likelihood with the famous employee retention problem once used by IBM!"
      ]
    },
    {
      "cell_type": "code",
      "metadata": {
        "id": "FLKR3ohPO9Fz"
      },
      "source": [
        "class EmployeeRetention:\n",
        "    def __init__(self, sex, age, promotions, years_employed, did_quit):\n",
        "        self.sex = sex\n",
        "        self.age = age\n",
        "        self.promotions = promotions\n",
        "        self.years_employed = years_employed\n",
        "        self.did_quit = did_quit"
      ],
      "execution_count": 10,
      "outputs": []
    },
    {
      "cell_type": "code",
      "metadata": {
        "id": "BOQRF-V1V1sw"
      },
      "source": [
        "employee_data = [(EmployeeRetention(row[0], row[1], row[2], row[3], row[4])) for index, row in\n",
        "                 pd.read_csv(\"/content/drive/MyDrive/Colab Notebooks/dat/employee_retention_analysis.csv\").iterrows()]"
      ],
      "execution_count": 11,
      "outputs": []
    },
    {
      "cell_type": "code",
      "metadata": {
        "id": "H8D1F5t_WAYw"
      },
      "source": [
        "best_likelihood = -100_000_000_000.0\n",
        "b0 = 1.0  # constant\n",
        "b1 = 1.0  # sex beta\n",
        "b2 = 1.0  # age beta\n",
        "b3 = 1.0  # promotions beta\n",
        "b4 = 1.0  # years employed beta\n",
        "\n",
        "iterations = 50_000"
      ],
      "execution_count": 14,
      "outputs": []
    },
    {
      "cell_type": "code",
      "metadata": {
        "id": "OgFt9-zPWakM"
      },
      "source": [
        "# calculate maximum likelihood\n",
        "\n",
        "def predict_probability(sex, age, promotions, years_employed):\n",
        "    x = b0 + (b1 * sex) + (b2 * age) + (b3 * promotions) + (b4 * years_employed)\n",
        "    odds = exp(-x)\n",
        "    p = 1.0 / (1.0 + odds)\n",
        "    return p"
      ],
      "execution_count": 15,
      "outputs": []
    },
    {
      "cell_type": "code",
      "metadata": {
        "colab": {
          "base_uri": "https://localhost:8080/"
        },
        "id": "PiL2aT8WWjnM",
        "outputId": "f79be766-f764-4910-e4c6-71ee67dc5e3a"
      },
      "source": [
        "for i in range(iterations):\n",
        "\n",
        "    # Select b0, b1, b2, b3, or b4 randomly, and adjust it by a random amount\n",
        "    random_b = random.choice(range(5))\n",
        "\n",
        "    random_adjust = np.random.standard_normal()\n",
        "\n",
        "    if random_b == 0:\n",
        "        b0 += random_adjust\n",
        "    elif random_b == 1:\n",
        "        b1 += random_adjust\n",
        "    elif random_b == 2:\n",
        "        b2 += random_adjust\n",
        "    elif random_b == 3:\n",
        "        b3 += random_adjust\n",
        "    elif random_b == 4:\n",
        "        b4 += random_adjust\n",
        "\n",
        "    # calculate new likelihood\n",
        "    # Use logarithmic addition to avoid multiplication and decimal underflow\n",
        "    new_likelihood = 0.0\n",
        "\n",
        "    for emp in employee_data:\n",
        "\n",
        "        probability = predict_probability(emp.sex, emp.age, emp.promotions, emp.years_employed)\n",
        "\n",
        "        if emp.did_quit == 1:\n",
        "            new_likelihood += log(probability)\n",
        "        else:\n",
        "            new_likelihood += log(1.00001 - probability)\n",
        "\n",
        "    # If solution improves, keep it and make it new best likelihood. Otherwise undo the adjustment\n",
        "    if best_likelihood < new_likelihood:\n",
        "        best_likelihood = new_likelihood\n",
        "    elif random_b == 0:\n",
        "        b0 -= random_adjust\n",
        "    elif random_b == 1:\n",
        "        b1 -= random_adjust\n",
        "    elif random_b == 2:\n",
        "        b2 -= random_adjust\n",
        "    elif random_b == 3:\n",
        "        b3 -= random_adjust\n",
        "    elif random_b == 4:\n",
        "        b4 -= random_adjust\n",
        "\n",
        "# Print best result\n",
        "print(\"1.0 / (1 + exp(-({0} + {1}*s + {2}*a + {3}*p + {4}*y))\".format(b0, b1, b2, b3, b4))\n",
        "print(\"BEST LIKELIHOOD: {0}\".format(math.exp(best_likelihood)))"
      ],
      "execution_count": 18,
      "outputs": [
        {
          "output_type": "stream",
          "text": [
            "1.0 / (1 + exp(-(1.3846018003331872 + 0.16471814439041688*s + -0.1320930856224285*a + -2.386172473632742*p + 1.230839164904981*y))\n",
            "BEST LIKELIHOOD: 9.799640748875159e-13\n"
          ],
          "name": "stdout"
        }
      ]
    },
    {
      "cell_type": "code",
      "metadata": {
        "colab": {
          "base_uri": "https://localhost:8080/"
        },
        "id": "i5pAUwz4WvwG",
        "outputId": "8624e348-6c14-462e-abea-ce516c71933c"
      },
      "source": [
        "# Interact and test with new employee data\n",
        "def predict_employee_will_stay(sex, age, promotions, years_employed):\n",
        "    probability_of_leaving = predict_probability(sex, age, promotions, years_employed)\n",
        "    if probability_of_leaving >= .5:\n",
        "        return \"WILL LEAVE, {0}% chance of leaving\".format(round(probability_of_leaving * 100.0,2))\n",
        "    else:\n",
        "        return \"WILL STAY, {0}% chance of leaving\".format(round(probability_of_leaving * 100.0,2))\n",
        "\n",
        "while True:\n",
        "    n = input(\"Predict employee will stay or leave {sex},{age},{promotions},{years employed}: \")\n",
        "    (sex, age, promotions, years_employed) = n.split(\",\")\n",
        "    print(predict_employee_will_stay(int(sex), int(age), int(promotions), int(years_employed)))\n",
        "    break"
      ],
      "execution_count": 37,
      "outputs": [
        {
          "output_type": "stream",
          "text": [
            "Predict employee will stay or leave {sex},{age},{promotions},{years employed}: 1,34,2,11\n",
            "WILL LEAVE, 99.71% chance of leaving\n"
          ],
          "name": "stdout"
        }
      ]
    },
    {
      "cell_type": "markdown",
      "metadata": {
        "id": "jn8PYgCwoz6s"
      },
      "source": [
        "So, we can play around with this and find out whether an employee will leave or stay in an organization by the method of maximum likelihood!"
      ]
    }
  ]
}